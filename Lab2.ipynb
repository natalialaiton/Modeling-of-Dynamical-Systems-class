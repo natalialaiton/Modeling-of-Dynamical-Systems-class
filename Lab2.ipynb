{
 "cells": [
  {
   "cell_type": "code",
   "execution_count": null,
   "id": "118e4996",
   "metadata": {},
   "outputs": [],
   "source": [
    "import plotly.express as px\n",
    "import plotly.io as pio\n",
    "import math\n",
    "import pandas as pd\n",
    "\n",
    "def initial_cond(state_var,coeff_1,coeff_2,total_time):\n",
    " x=state_var[0]\n",
    " y=state_var[1]\n",
    " a=coeff_1\n",
    " b=coeff_2\n",
    " t=total_time\n",
    " resaults=[]\n",
    " return [x,y],a,b,t,resaults\n",
    "def observe(resaults,state_var):\n",
    " return resaults.append(state_var)\n",
    "def update(x,y,a,b):\n",
    " return [x+a*x,y+y*b]\n",
    "state_var,a,b,Time,Resaults=initial_cond([2,1],0.001,0.001,3100)\n",
    "for time in range(Time):\n",
    " observe(Resaults,state_var)\n",
    " state_var=update(state_var[0],state_var[1],a,b)\n",
    "#print(Resaults)\n",
    "for x in Resaults:\n",
    " print(x)\n",
    "df = pd.DataFrame(Resaults,columns = ['x', 'y'])\n",
    "fig= px.line(df, x=\"x\", y=\"y\",title='Parcial 1')\n",
    "fig.update_layout(xaxis_title='medication room',yaxis_title='organ bank')\n",
    "legend_names={'0':'x'}\n",
    "#fig.for_each_trace(lambda t: t.update(name=legend_names[t.name]))\n",
    "fig.show()\n",
    "#print(df)"
   ]
  },
  {
   "cell_type": "code",
   "execution_count": null,
   "id": "9f80cb35",
   "metadata": {},
   "outputs": [],
   "source": [
    "import plotly.express as px\n",
    "import plotly.io as pio\n",
    "import math\n",
    "import pandas as pd\n",
    "\n",
    "def initial_cond(state_var,coeff_1,coeff_2,total_time):\n",
    " x=state_var[0]\n",
    " y=state_var[1]\n",
    " a=coeff_1\n",
    " b=coeff_2\n",
    " t=total_time\n",
    " resaults=[]\n",
    " return [x,y],a,b,t,resaults\n",
    "def observe(resaults,state_var):\n",
    " return resaults.append(state_var)\n",
    "def update(x,y,a,b):\n",
    " return [x+a*x,y+y*b]\n",
    "state_var,a,b,Time,Resaults=initial_cond([2,1],0.01,0.2,150)\n",
    "for time in range(Time):\n",
    " observe(Resaults,state_var)\n",
    " state_var=update(state_var[0],state_var[1],a,b)\n",
    "#print(Resaults)\n",
    "y=0\n",
    "for x in Resaults:\n",
    " print(y,x)\n",
    " y+=1\n",
    "df = pd.DataFrame(Resaults,columns = ['x', 'y'])\n",
    "fig= px.line(df, x=\"x\", y=\"y\",title='Parcial 1')\n",
    "fig.update_layout(xaxis_title='vulnerability',yaxis_title='security')\n",
    "legend_names={'0':'x'}\n",
    "#fig.for_each_trace(lambda t: t.update(name=legend_names[t.name]))\n",
    "fig.show()\n",
    "#print(df)"
   ]
  },
  {
   "cell_type": "code",
   "execution_count": null,
   "id": "c6b6ae94",
   "metadata": {},
   "outputs": [],
   "source": []
  }
 ],
 "metadata": {
  "kernelspec": {
   "display_name": "Python 3",
   "language": "python",
   "name": "python3"
  },
  "language_info": {
   "codemirror_mode": {
    "name": "ipython",
    "version": 3
   },
   "file_extension": ".py",
   "mimetype": "text/x-python",
   "name": "python",
   "nbconvert_exporter": "python",
   "pygments_lexer": "ipython3",
   "version": "3.8.8"
  }
 },
 "nbformat": 4,
 "nbformat_minor": 5
}
